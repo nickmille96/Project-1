{
 "cells": [
  {
   "cell_type": "markdown",
   "id": "04f49394",
   "metadata": {},
   "source": [
    "# States with the highest Cigarette, SmokelessTobacco, and E-Cigarette use"
   ]
  },
  {
   "cell_type": "markdown",
   "id": "ed2bf031",
   "metadata": {},
   "source": [
    "# Analysis\n",
    "\n",
    "Behavioral Risk Factor Data: Tobacco Use (2011 to 2019, Metadata Updated: August 18, 2021)The BRFSS is a continuous, state-based surveillance system that collects information about modifiable risk factors for chronic diseases and other leading causes of death. The data for the STATE System were extracted from the annual BRFSS surveys from participating states. Tobacco topics included are cigarette and e-cigarette use prevalence by demographics, cigarette and e-cigarette use frequency, and quit attempts.\n",
    "\n",
    "\n",
    "## Findings:\n",
    "Based on the provided data, The states with the highest use of four types of tobacco: Cigarette, Smokeless, E-cig and Cessation (Adults). Cigarette(Adult) is the highest tobacco used among all states. As per the question requirement the analysis has done for three types of Tobacco. After grouping the data by state and finding the mean percentage of smokers or tobacco users, analysis found that West Virginia has the highest percentage of cigarette smokers, National Median(States and DC) has the highest percentage of smokeless tobacco users and  e-cig users. These findings are supported by the three visualizations produced by the code. Each visualization is clear and accurately labelled, making it easy to understand the data. Over all \n",
    "\n",
    "## Conclusion:\n",
    "\n",
    "In conclusion, the provided data shows that certain states have a higher percentage of tobacco users compared to others. Overall, the project has successfully answered the questions posed in the project proposal and supported the findings with ample and precise explanation and visualizations. The analysis involved aggregation, comparison, and summary statistics, demonstrating the application of key statistical concepts to real-world data.\n",
    "\n",
    "\"This information can be useful for public health officials to develop targeted interventions and policies to reduce tobacco use in these states.\"\n",
    "\n"
   ]
  },
  {
   "cell_type": "code",
   "execution_count": 3,
   "id": "42f7bd09",
   "metadata": {},
   "outputs": [],
   "source": [
    "# Import Dependencies\n",
    "\n",
    "import pandas as pd\n",
    "from pathlib import Path\n",
    "import matplotlib.pyplot as plt\n",
    "import seaborn as sns\n",
    "import textwrap\n",
    "import warnings\n",
    "warnings.filterwarnings('ignore')\n"
   ]
  },
  {
   "cell_type": "code",
   "execution_count": 4,
   "id": "3e1ac5f5",
   "metadata": {},
   "outputs": [],
   "source": [
    "# Read CSV file\n",
    "data_file = pd.read_csv(\"./Resources/Clean_Tobacco_data.csv\")"
   ]
  },
  {
   "cell_type": "code",
   "execution_count": 5,
   "id": "0f90a00f",
   "metadata": {},
   "outputs": [
    {
     "data": {
      "text/html": [
       "<div>\n",
       "<style scoped>\n",
       "    .dataframe tbody tr th:only-of-type {\n",
       "        vertical-align: middle;\n",
       "    }\n",
       "\n",
       "    .dataframe tbody tr th {\n",
       "        vertical-align: top;\n",
       "    }\n",
       "\n",
       "    .dataframe thead th {\n",
       "        text-align: right;\n",
       "    }\n",
       "</style>\n",
       "<table border=\"1\" class=\"dataframe\">\n",
       "  <thead>\n",
       "    <tr style=\"text-align: right;\">\n",
       "      <th></th>\n",
       "      <th>Unnamed: 0</th>\n",
       "      <th>YEAR</th>\n",
       "      <th>LocationDesc</th>\n",
       "      <th>TopicDesc</th>\n",
       "      <th>MeasureDesc</th>\n",
       "      <th>Response</th>\n",
       "      <th>Data_Value</th>\n",
       "      <th>Sample_Size</th>\n",
       "      <th>Gender</th>\n",
       "      <th>Race</th>\n",
       "      <th>Age</th>\n",
       "    </tr>\n",
       "  </thead>\n",
       "  <tbody>\n",
       "    <tr>\n",
       "      <th>0</th>\n",
       "      <td>0</td>\n",
       "      <td>2019</td>\n",
       "      <td>National Median (States and DC)</td>\n",
       "      <td>Cessation (Adults)</td>\n",
       "      <td>Percent of Former Smokers Among Ever Smokers</td>\n",
       "      <td>NaN</td>\n",
       "      <td>60.8</td>\n",
       "      <td>NaN</td>\n",
       "      <td>Overall</td>\n",
       "      <td>All Races</td>\n",
       "      <td>All Ages</td>\n",
       "    </tr>\n",
       "    <tr>\n",
       "      <th>1</th>\n",
       "      <td>1</td>\n",
       "      <td>2019</td>\n",
       "      <td>New Hampshire</td>\n",
       "      <td>Cigarette Use (Adults)</td>\n",
       "      <td>Smoking Frequency</td>\n",
       "      <td>Every Day</td>\n",
       "      <td>76.3</td>\n",
       "      <td>357.0</td>\n",
       "      <td>Female</td>\n",
       "      <td>All Races</td>\n",
       "      <td>All Ages</td>\n",
       "    </tr>\n",
       "    <tr>\n",
       "      <th>2</th>\n",
       "      <td>2</td>\n",
       "      <td>2019</td>\n",
       "      <td>Florida</td>\n",
       "      <td>Cigarette Use (Adults)</td>\n",
       "      <td>Current Smoking</td>\n",
       "      <td>NaN</td>\n",
       "      <td>14.8</td>\n",
       "      <td>15824.0</td>\n",
       "      <td>Overall</td>\n",
       "      <td>All Races</td>\n",
       "      <td>All Ages</td>\n",
       "    </tr>\n",
       "    <tr>\n",
       "      <th>3</th>\n",
       "      <td>3</td>\n",
       "      <td>2019</td>\n",
       "      <td>Hawaii</td>\n",
       "      <td>Smokeless Tobacco Use (Adults)</td>\n",
       "      <td>Current Use</td>\n",
       "      <td>NaN</td>\n",
       "      <td>2.1</td>\n",
       "      <td>459.0</td>\n",
       "      <td>Overall</td>\n",
       "      <td>All Races</td>\n",
       "      <td>18 to 24 Years</td>\n",
       "    </tr>\n",
       "    <tr>\n",
       "      <th>4</th>\n",
       "      <td>4</td>\n",
       "      <td>2019</td>\n",
       "      <td>Alabama</td>\n",
       "      <td>Smokeless Tobacco Use (Adults)</td>\n",
       "      <td>User Status</td>\n",
       "      <td>Not Current</td>\n",
       "      <td>88.6</td>\n",
       "      <td>2729.0</td>\n",
       "      <td>Male</td>\n",
       "      <td>All Races</td>\n",
       "      <td>All Ages</td>\n",
       "    </tr>\n",
       "  </tbody>\n",
       "</table>\n",
       "</div>"
      ],
      "text/plain": [
       "   Unnamed: 0  YEAR                     LocationDesc  \\\n",
       "0           0  2019  National Median (States and DC)   \n",
       "1           1  2019                    New Hampshire   \n",
       "2           2  2019                          Florida   \n",
       "3           3  2019                           Hawaii   \n",
       "4           4  2019                          Alabama   \n",
       "\n",
       "                        TopicDesc  \\\n",
       "0              Cessation (Adults)   \n",
       "1          Cigarette Use (Adults)   \n",
       "2          Cigarette Use (Adults)   \n",
       "3  Smokeless Tobacco Use (Adults)   \n",
       "4  Smokeless Tobacco Use (Adults)   \n",
       "\n",
       "                                    MeasureDesc     Response  Data_Value  \\\n",
       "0  Percent of Former Smokers Among Ever Smokers          NaN        60.8   \n",
       "1                             Smoking Frequency    Every Day        76.3   \n",
       "2                               Current Smoking          NaN        14.8   \n",
       "3                                   Current Use          NaN         2.1   \n",
       "4                                   User Status  Not Current        88.6   \n",
       "\n",
       "   Sample_Size   Gender       Race             Age  \n",
       "0          NaN  Overall  All Races        All Ages  \n",
       "1        357.0   Female  All Races        All Ages  \n",
       "2      15824.0  Overall  All Races        All Ages  \n",
       "3        459.0  Overall  All Races  18 to 24 Years  \n",
       "4       2729.0     Male  All Races        All Ages  "
      ]
     },
     "execution_count": 5,
     "metadata": {},
     "output_type": "execute_result"
    }
   ],
   "source": [
    "# Print the data\n",
    "data_file.head()\n"
   ]
  },
  {
   "cell_type": "code",
   "execution_count": 6,
   "id": "a2faf18b",
   "metadata": {},
   "outputs": [
    {
     "data": {
      "text/html": [
       "<div>\n",
       "<style scoped>\n",
       "    .dataframe tbody tr th:only-of-type {\n",
       "        vertical-align: middle;\n",
       "    }\n",
       "\n",
       "    .dataframe tbody tr th {\n",
       "        vertical-align: top;\n",
       "    }\n",
       "\n",
       "    .dataframe thead th {\n",
       "        text-align: right;\n",
       "    }\n",
       "</style>\n",
       "<table border=\"1\" class=\"dataframe\">\n",
       "  <thead>\n",
       "    <tr style=\"text-align: right;\">\n",
       "      <th></th>\n",
       "      <th>Unnamed: 0</th>\n",
       "      <th>YEAR</th>\n",
       "      <th>LocationDesc</th>\n",
       "      <th>TopicDesc</th>\n",
       "      <th>MeasureDesc</th>\n",
       "      <th>Response</th>\n",
       "      <th>Data_Value</th>\n",
       "      <th>Sample_Size</th>\n",
       "      <th>Gender</th>\n",
       "      <th>Race</th>\n",
       "      <th>Age</th>\n",
       "    </tr>\n",
       "  </thead>\n",
       "  <tbody>\n",
       "    <tr>\n",
       "      <th>1</th>\n",
       "      <td>1</td>\n",
       "      <td>2019</td>\n",
       "      <td>New Hampshire</td>\n",
       "      <td>Cigarette Use (Adults)</td>\n",
       "      <td>Smoking Frequency</td>\n",
       "      <td>Every Day</td>\n",
       "      <td>76.3</td>\n",
       "      <td>357.0</td>\n",
       "      <td>Female</td>\n",
       "      <td>All Races</td>\n",
       "      <td>All Ages</td>\n",
       "    </tr>\n",
       "    <tr>\n",
       "      <th>4</th>\n",
       "      <td>4</td>\n",
       "      <td>2019</td>\n",
       "      <td>Alabama</td>\n",
       "      <td>Smokeless Tobacco Use (Adults)</td>\n",
       "      <td>User Status</td>\n",
       "      <td>Not Current</td>\n",
       "      <td>88.6</td>\n",
       "      <td>2729.0</td>\n",
       "      <td>Male</td>\n",
       "      <td>All Races</td>\n",
       "      <td>All Ages</td>\n",
       "    </tr>\n",
       "    <tr>\n",
       "      <th>5</th>\n",
       "      <td>5</td>\n",
       "      <td>2019</td>\n",
       "      <td>New Hampshire</td>\n",
       "      <td>Smokeless Tobacco Use (Adults)</td>\n",
       "      <td>Frequency of Use</td>\n",
       "      <td>Some Days</td>\n",
       "      <td>55.2</td>\n",
       "      <td>82.0</td>\n",
       "      <td>Overall</td>\n",
       "      <td>All Races</td>\n",
       "      <td>All Ages</td>\n",
       "    </tr>\n",
       "    <tr>\n",
       "      <th>6</th>\n",
       "      <td>6</td>\n",
       "      <td>2019</td>\n",
       "      <td>South Carolina</td>\n",
       "      <td>Cigarette Use (Adults)</td>\n",
       "      <td>Smoking Status</td>\n",
       "      <td>Current</td>\n",
       "      <td>15.8</td>\n",
       "      <td>3761.0</td>\n",
       "      <td>Female</td>\n",
       "      <td>All Races</td>\n",
       "      <td>All Ages</td>\n",
       "    </tr>\n",
       "    <tr>\n",
       "      <th>8</th>\n",
       "      <td>8</td>\n",
       "      <td>2019</td>\n",
       "      <td>Michigan</td>\n",
       "      <td>Cigarette Use (Adults)</td>\n",
       "      <td>Smoking Status</td>\n",
       "      <td>Current</td>\n",
       "      <td>17.2</td>\n",
       "      <td>5662.0</td>\n",
       "      <td>Female</td>\n",
       "      <td>All Races</td>\n",
       "      <td>All Ages</td>\n",
       "    </tr>\n",
       "    <tr>\n",
       "      <th>...</th>\n",
       "      <td>...</td>\n",
       "      <td>...</td>\n",
       "      <td>...</td>\n",
       "      <td>...</td>\n",
       "      <td>...</td>\n",
       "      <td>...</td>\n",
       "      <td>...</td>\n",
       "      <td>...</td>\n",
       "      <td>...</td>\n",
       "      <td>...</td>\n",
       "      <td>...</td>\n",
       "    </tr>\n",
       "    <tr>\n",
       "      <th>33194</th>\n",
       "      <td>33194</td>\n",
       "      <td>2011</td>\n",
       "      <td>Nebraska</td>\n",
       "      <td>Cigarette Use (Adults)</td>\n",
       "      <td>Smoking Status</td>\n",
       "      <td>Current</td>\n",
       "      <td>22.1</td>\n",
       "      <td>10189.0</td>\n",
       "      <td>Male</td>\n",
       "      <td>All Races</td>\n",
       "      <td>All Ages</td>\n",
       "    </tr>\n",
       "    <tr>\n",
       "      <th>33198</th>\n",
       "      <td>33198</td>\n",
       "      <td>2011</td>\n",
       "      <td>North Carolina</td>\n",
       "      <td>Cigarette Use (Adults)</td>\n",
       "      <td>Smoking Status</td>\n",
       "      <td>Current</td>\n",
       "      <td>24.5</td>\n",
       "      <td>4294.0</td>\n",
       "      <td>Male</td>\n",
       "      <td>All Races</td>\n",
       "      <td>All Ages</td>\n",
       "    </tr>\n",
       "    <tr>\n",
       "      <th>33199</th>\n",
       "      <td>33199</td>\n",
       "      <td>2012</td>\n",
       "      <td>Texas</td>\n",
       "      <td>Cigarette Use (Adults)</td>\n",
       "      <td>Smoking Status</td>\n",
       "      <td>Former</td>\n",
       "      <td>17.3</td>\n",
       "      <td>5319.0</td>\n",
       "      <td>Female</td>\n",
       "      <td>All Races</td>\n",
       "      <td>All Ages</td>\n",
       "    </tr>\n",
       "    <tr>\n",
       "      <th>33201</th>\n",
       "      <td>33201</td>\n",
       "      <td>2011</td>\n",
       "      <td>California</td>\n",
       "      <td>Cigarette Use (Adults)</td>\n",
       "      <td>Smoking Status</td>\n",
       "      <td>Never</td>\n",
       "      <td>62.5</td>\n",
       "      <td>17985.0</td>\n",
       "      <td>Overall</td>\n",
       "      <td>All Races</td>\n",
       "      <td>All Ages</td>\n",
       "    </tr>\n",
       "    <tr>\n",
       "      <th>33204</th>\n",
       "      <td>33204</td>\n",
       "      <td>2012</td>\n",
       "      <td>Tennessee</td>\n",
       "      <td>Smokeless Tobacco Use (Adults)</td>\n",
       "      <td>Frequency of Use</td>\n",
       "      <td>Some Days</td>\n",
       "      <td>31.4</td>\n",
       "      <td>203.0</td>\n",
       "      <td>Male</td>\n",
       "      <td>All Races</td>\n",
       "      <td>All Ages</td>\n",
       "    </tr>\n",
       "  </tbody>\n",
       "</table>\n",
       "<p>14137 rows × 11 columns</p>\n",
       "</div>"
      ],
      "text/plain": [
       "       Unnamed: 0  YEAR    LocationDesc                       TopicDesc  \\\n",
       "1               1  2019   New Hampshire          Cigarette Use (Adults)   \n",
       "4               4  2019         Alabama  Smokeless Tobacco Use (Adults)   \n",
       "5               5  2019   New Hampshire  Smokeless Tobacco Use (Adults)   \n",
       "6               6  2019  South Carolina          Cigarette Use (Adults)   \n",
       "8               8  2019        Michigan          Cigarette Use (Adults)   \n",
       "...           ...   ...             ...                             ...   \n",
       "33194       33194  2011        Nebraska          Cigarette Use (Adults)   \n",
       "33198       33198  2011  North Carolina          Cigarette Use (Adults)   \n",
       "33199       33199  2012           Texas          Cigarette Use (Adults)   \n",
       "33201       33201  2011      California          Cigarette Use (Adults)   \n",
       "33204       33204  2012       Tennessee  Smokeless Tobacco Use (Adults)   \n",
       "\n",
       "             MeasureDesc     Response  Data_Value  Sample_Size   Gender  \\\n",
       "1      Smoking Frequency    Every Day        76.3        357.0   Female   \n",
       "4            User Status  Not Current        88.6       2729.0     Male   \n",
       "5       Frequency of Use    Some Days        55.2         82.0  Overall   \n",
       "6         Smoking Status      Current        15.8       3761.0   Female   \n",
       "8         Smoking Status      Current        17.2       5662.0   Female   \n",
       "...                  ...          ...         ...          ...      ...   \n",
       "33194     Smoking Status      Current        22.1      10189.0     Male   \n",
       "33198     Smoking Status      Current        24.5       4294.0     Male   \n",
       "33199     Smoking Status       Former        17.3       5319.0   Female   \n",
       "33201     Smoking Status        Never        62.5      17985.0  Overall   \n",
       "33204   Frequency of Use    Some Days        31.4        203.0     Male   \n",
       "\n",
       "            Race       Age  \n",
       "1      All Races  All Ages  \n",
       "4      All Races  All Ages  \n",
       "5      All Races  All Ages  \n",
       "6      All Races  All Ages  \n",
       "8      All Races  All Ages  \n",
       "...          ...       ...  \n",
       "33194  All Races  All Ages  \n",
       "33198  All Races  All Ages  \n",
       "33199  All Races  All Ages  \n",
       "33201  All Races  All Ages  \n",
       "33204  All Races  All Ages  \n",
       "\n",
       "[14137 rows x 11 columns]"
      ]
     },
     "execution_count": 6,
     "metadata": {},
     "output_type": "execute_result"
    }
   ],
   "source": [
    "# Drop all rows with missing information\n",
    "data_file.dropna(how = \"any\")"
   ]
  },
  {
   "cell_type": "code",
   "execution_count": 7,
   "id": "9d815930",
   "metadata": {},
   "outputs": [
    {
     "data": {
      "text/plain": [
       "Unnamed: 0      33206\n",
       "YEAR            33206\n",
       "LocationDesc    33206\n",
       "TopicDesc       33206\n",
       "MeasureDesc     33206\n",
       "Response        15018\n",
       "Data_Value      32345\n",
       "Sample_Size     32267\n",
       "Gender          33206\n",
       "Race            33206\n",
       "Age             33206\n",
       "dtype: int64"
      ]
     },
     "execution_count": 7,
     "metadata": {},
     "output_type": "execute_result"
    }
   ],
   "source": [
    "data_file.count()"
   ]
  },
  {
   "cell_type": "code",
   "execution_count": 8,
   "id": "8b87b18a",
   "metadata": {},
   "outputs": [
    {
     "data": {
      "text/plain": [
       "array([2019, 2018, 2017, 2016, 2015, 2014, 2013, 2012, 2011], dtype=int64)"
      ]
     },
     "execution_count": 8,
     "metadata": {},
     "output_type": "execute_result"
    }
   ],
   "source": [
    "# Find out number of years\n",
    "unique_year = data_file[\"YEAR\"].unique()\n",
    "unique_year"
   ]
  },
  {
   "cell_type": "code",
   "execution_count": 9,
   "id": "c833e151",
   "metadata": {},
   "outputs": [
    {
     "data": {
      "text/plain": [
       "array(['National Median (States and DC)', 'New Hampshire', 'Florida',\n",
       "       'Hawaii', 'Alabama', 'South Carolina', 'Kentucky', 'Michigan',\n",
       "       'Illinois', 'Pennsylvania', 'Ohio', 'Massachusetts',\n",
       "       'North Carolina', 'Guam', 'Missouri', 'Minnesota', 'Nevada',\n",
       "       'Louisiana', 'District of Columbia', 'Maine', 'Oregon', 'Alaska',\n",
       "       'Puerto Rico', 'Mississippi', 'Iowa', 'New Mexico', 'Vermont',\n",
       "       'Georgia', 'Nebraska', 'Wisconsin', 'Maryland', 'Indiana',\n",
       "       'California', 'Virginia', 'Tennessee', 'New York', 'Kansas',\n",
       "       'Rhode Island', 'Arkansas', 'West Virginia', 'Delaware',\n",
       "       'North Dakota', 'Idaho', 'Montana', 'Connecticut', 'New Jersey',\n",
       "       'Washington', 'Arizona', 'Utah', 'Wyoming', 'Texas', 'Oklahoma',\n",
       "       'South Dakota', 'Colorado'], dtype=object)"
      ]
     },
     "execution_count": 9,
     "metadata": {},
     "output_type": "execute_result"
    }
   ],
   "source": [
    "# Find out unique number of States.unique()\n",
    "unique_states = data_file[\"LocationDesc\"].unique()\n",
    "unique_states"
   ]
  },
  {
   "cell_type": "code",
   "execution_count": 10,
   "id": "a132d127",
   "metadata": {},
   "outputs": [
    {
     "data": {
      "text/plain": [
       "Georgia          636\n",
       "Arkansas         636\n",
       "Alaska           636\n",
       "Montana          636\n",
       "Mississippi      636\n",
       "Iowa             636\n",
       "Idaho            636\n",
       "North Dakota     636\n",
       "New Hampshire    636\n",
       "Nebraska         636\n",
       "Name: LocationDesc, dtype: int64"
      ]
     },
     "execution_count": 10,
     "metadata": {},
     "output_type": "execute_result"
    }
   ],
   "source": [
    "# Count State values \n",
    "state_count = data_file[\"LocationDesc\"].value_counts()\n",
    "state_count.head(10)"
   ]
  },
  {
   "cell_type": "code",
   "execution_count": 11,
   "id": "6cd9385f",
   "metadata": {},
   "outputs": [
    {
     "data": {
      "text/html": [
       "<div>\n",
       "<style scoped>\n",
       "    .dataframe tbody tr th:only-of-type {\n",
       "        vertical-align: middle;\n",
       "    }\n",
       "\n",
       "    .dataframe tbody tr th {\n",
       "        vertical-align: top;\n",
       "    }\n",
       "\n",
       "    .dataframe thead th {\n",
       "        text-align: right;\n",
       "    }\n",
       "</style>\n",
       "<table border=\"1\" class=\"dataframe\">\n",
       "  <thead>\n",
       "    <tr style=\"text-align: right;\">\n",
       "      <th></th>\n",
       "      <th>Unnamed: 0</th>\n",
       "      <th>Year</th>\n",
       "      <th>State</th>\n",
       "      <th>Tobacco Use</th>\n",
       "      <th>MeasureDesc</th>\n",
       "      <th>Response</th>\n",
       "      <th>Percentage</th>\n",
       "      <th>Sample Size</th>\n",
       "      <th>Gender</th>\n",
       "      <th>Race</th>\n",
       "      <th>Age</th>\n",
       "    </tr>\n",
       "  </thead>\n",
       "  <tbody>\n",
       "    <tr>\n",
       "      <th>0</th>\n",
       "      <td>0</td>\n",
       "      <td>2019</td>\n",
       "      <td>National Median (States and DC)</td>\n",
       "      <td>Cessation (Adults)</td>\n",
       "      <td>Percent of Former Smokers Among Ever Smokers</td>\n",
       "      <td>NaN</td>\n",
       "      <td>60.8</td>\n",
       "      <td>NaN</td>\n",
       "      <td>Overall</td>\n",
       "      <td>All Races</td>\n",
       "      <td>All Ages</td>\n",
       "    </tr>\n",
       "    <tr>\n",
       "      <th>1</th>\n",
       "      <td>1</td>\n",
       "      <td>2019</td>\n",
       "      <td>New Hampshire</td>\n",
       "      <td>Cigarette Use (Adults)</td>\n",
       "      <td>Smoking Frequency</td>\n",
       "      <td>Every Day</td>\n",
       "      <td>76.3</td>\n",
       "      <td>357.0</td>\n",
       "      <td>Female</td>\n",
       "      <td>All Races</td>\n",
       "      <td>All Ages</td>\n",
       "    </tr>\n",
       "    <tr>\n",
       "      <th>2</th>\n",
       "      <td>2</td>\n",
       "      <td>2019</td>\n",
       "      <td>Florida</td>\n",
       "      <td>Cigarette Use (Adults)</td>\n",
       "      <td>Current Smoking</td>\n",
       "      <td>NaN</td>\n",
       "      <td>14.8</td>\n",
       "      <td>15824.0</td>\n",
       "      <td>Overall</td>\n",
       "      <td>All Races</td>\n",
       "      <td>All Ages</td>\n",
       "    </tr>\n",
       "    <tr>\n",
       "      <th>3</th>\n",
       "      <td>3</td>\n",
       "      <td>2019</td>\n",
       "      <td>Hawaii</td>\n",
       "      <td>Smokeless Tobacco Use (Adults)</td>\n",
       "      <td>Current Use</td>\n",
       "      <td>NaN</td>\n",
       "      <td>2.1</td>\n",
       "      <td>459.0</td>\n",
       "      <td>Overall</td>\n",
       "      <td>All Races</td>\n",
       "      <td>18 to 24 Years</td>\n",
       "    </tr>\n",
       "    <tr>\n",
       "      <th>4</th>\n",
       "      <td>4</td>\n",
       "      <td>2019</td>\n",
       "      <td>Alabama</td>\n",
       "      <td>Smokeless Tobacco Use (Adults)</td>\n",
       "      <td>User Status</td>\n",
       "      <td>Not Current</td>\n",
       "      <td>88.6</td>\n",
       "      <td>2729.0</td>\n",
       "      <td>Male</td>\n",
       "      <td>All Races</td>\n",
       "      <td>All Ages</td>\n",
       "    </tr>\n",
       "    <tr>\n",
       "      <th>5</th>\n",
       "      <td>5</td>\n",
       "      <td>2019</td>\n",
       "      <td>New Hampshire</td>\n",
       "      <td>Smokeless Tobacco Use (Adults)</td>\n",
       "      <td>Frequency of Use</td>\n",
       "      <td>Some Days</td>\n",
       "      <td>55.2</td>\n",
       "      <td>82.0</td>\n",
       "      <td>Overall</td>\n",
       "      <td>All Races</td>\n",
       "      <td>All Ages</td>\n",
       "    </tr>\n",
       "    <tr>\n",
       "      <th>6</th>\n",
       "      <td>6</td>\n",
       "      <td>2019</td>\n",
       "      <td>South Carolina</td>\n",
       "      <td>Cigarette Use (Adults)</td>\n",
       "      <td>Smoking Status</td>\n",
       "      <td>Current</td>\n",
       "      <td>15.8</td>\n",
       "      <td>3761.0</td>\n",
       "      <td>Female</td>\n",
       "      <td>All Races</td>\n",
       "      <td>All Ages</td>\n",
       "    </tr>\n",
       "    <tr>\n",
       "      <th>7</th>\n",
       "      <td>7</td>\n",
       "      <td>2019</td>\n",
       "      <td>Kentucky</td>\n",
       "      <td>Smokeless Tobacco Use (Adults)</td>\n",
       "      <td>Current Use</td>\n",
       "      <td>NaN</td>\n",
       "      <td>7.8</td>\n",
       "      <td>629.0</td>\n",
       "      <td>Overall</td>\n",
       "      <td>All Races</td>\n",
       "      <td>Age 20 and Older</td>\n",
       "    </tr>\n",
       "    <tr>\n",
       "      <th>8</th>\n",
       "      <td>8</td>\n",
       "      <td>2019</td>\n",
       "      <td>Michigan</td>\n",
       "      <td>Cigarette Use (Adults)</td>\n",
       "      <td>Smoking Status</td>\n",
       "      <td>Current</td>\n",
       "      <td>17.2</td>\n",
       "      <td>5662.0</td>\n",
       "      <td>Female</td>\n",
       "      <td>All Races</td>\n",
       "      <td>All Ages</td>\n",
       "    </tr>\n",
       "    <tr>\n",
       "      <th>9</th>\n",
       "      <td>9</td>\n",
       "      <td>2019</td>\n",
       "      <td>Illinois</td>\n",
       "      <td>Smokeless Tobacco Use (Adults)</td>\n",
       "      <td>Current Use</td>\n",
       "      <td>NaN</td>\n",
       "      <td>2.8</td>\n",
       "      <td>1882.0</td>\n",
       "      <td>Overall</td>\n",
       "      <td>All Races</td>\n",
       "      <td>45 to 64 Years</td>\n",
       "    </tr>\n",
       "  </tbody>\n",
       "</table>\n",
       "</div>"
      ],
      "text/plain": [
       "   Unnamed: 0  Year                            State  \\\n",
       "0           0  2019  National Median (States and DC)   \n",
       "1           1  2019                    New Hampshire   \n",
       "2           2  2019                          Florida   \n",
       "3           3  2019                           Hawaii   \n",
       "4           4  2019                          Alabama   \n",
       "5           5  2019                    New Hampshire   \n",
       "6           6  2019                   South Carolina   \n",
       "7           7  2019                         Kentucky   \n",
       "8           8  2019                         Michigan   \n",
       "9           9  2019                         Illinois   \n",
       "\n",
       "                      Tobacco Use  \\\n",
       "0              Cessation (Adults)   \n",
       "1          Cigarette Use (Adults)   \n",
       "2          Cigarette Use (Adults)   \n",
       "3  Smokeless Tobacco Use (Adults)   \n",
       "4  Smokeless Tobacco Use (Adults)   \n",
       "5  Smokeless Tobacco Use (Adults)   \n",
       "6          Cigarette Use (Adults)   \n",
       "7  Smokeless Tobacco Use (Adults)   \n",
       "8          Cigarette Use (Adults)   \n",
       "9  Smokeless Tobacco Use (Adults)   \n",
       "\n",
       "                                    MeasureDesc     Response  Percentage  \\\n",
       "0  Percent of Former Smokers Among Ever Smokers          NaN        60.8   \n",
       "1                             Smoking Frequency    Every Day        76.3   \n",
       "2                               Current Smoking          NaN        14.8   \n",
       "3                                   Current Use          NaN         2.1   \n",
       "4                                   User Status  Not Current        88.6   \n",
       "5                              Frequency of Use    Some Days        55.2   \n",
       "6                                Smoking Status      Current        15.8   \n",
       "7                                   Current Use          NaN         7.8   \n",
       "8                                Smoking Status      Current        17.2   \n",
       "9                                   Current Use          NaN         2.8   \n",
       "\n",
       "   Sample Size   Gender       Race               Age  \n",
       "0          NaN  Overall  All Races          All Ages  \n",
       "1        357.0   Female  All Races          All Ages  \n",
       "2      15824.0  Overall  All Races          All Ages  \n",
       "3        459.0  Overall  All Races    18 to 24 Years  \n",
       "4       2729.0     Male  All Races          All Ages  \n",
       "5         82.0  Overall  All Races          All Ages  \n",
       "6       3761.0   Female  All Races          All Ages  \n",
       "7        629.0  Overall  All Races  Age 20 and Older  \n",
       "8       5662.0   Female  All Races          All Ages  \n",
       "9       1882.0  Overall  All Races    45 to 64 Years  "
      ]
     },
     "execution_count": 11,
     "metadata": {},
     "output_type": "execute_result"
    }
   ],
   "source": [
    "# Rename the Columnnames for better understanding\n",
    "data_file = data_file.rename(columns = {\"YEAR\": \"Year\", \"LocationDesc\" : \"State\", \"TopicDesc\" : \"Tobacco Use\", \n",
    "                                        \"Data_Value\": \"Percentage\", \"Sample_Size\" : \"Sample Size\"})\n",
    "data_file.head(10)"
   ]
  },
  {
   "cell_type": "code",
   "execution_count": 12,
   "id": "29aea54c",
   "metadata": {},
   "outputs": [
    {
     "name": "stdout",
     "output_type": "stream",
     "text": [
      "Number of tobacco types: 4\n",
      "tobacco_types:  ['Cessation (Adults)' 'Cigarette Use (Adults)'\n",
      " 'Smokeless Tobacco Use (Adults)' 'E-Cigarette Use (Adults)']\n"
     ]
    }
   ],
   "source": [
    "# Find out different types of tobacco use\n",
    "\n",
    "tobacco_list = data_file['Tobacco Use'].unique()\n",
    "tobacco_types1 = data_file['Tobacco Use'].nunique()\n",
    "df_tobacco_types = pd.DataFrame(tobacco_list, columns=['tobacco_list'])\n",
    "\n",
    "print(\"Number of tobacco types:\", tobacco_types1)\n",
    "print(\"tobacco_types: \", tobacco_list)\n"
   ]
  },
  {
   "cell_type": "code",
   "execution_count": 13,
   "id": "e12f7601",
   "metadata": {},
   "outputs": [
    {
     "data": {
      "text/plain": [
       "Cigarette Use (Adults)            13860\n",
       "Smokeless Tobacco Use (Adults)    12426\n",
       "E-Cigarette Use (Adults)           4040\n",
       "Cessation (Adults)                 2880\n",
       "Name: Tobacco Use, dtype: int64"
      ]
     },
     "execution_count": 13,
     "metadata": {},
     "output_type": "execute_result"
    }
   ],
   "source": [
    "# Find out number of tobacco use per tobacco type\n",
    "tobacco_count = data_file[\"Tobacco Use\"].value_counts()\n",
    "tobacco_count"
   ]
  },
  {
   "cell_type": "markdown",
   "id": "30166793",
   "metadata": {},
   "source": [
    "# Highest Tobacco Use by Tobacco Types\n",
    "(Cigarette, Smokeless Tobacco Use, E-Cigarette Use)"
   ]
  },
  {
   "cell_type": "code",
   "execution_count": 14,
   "id": "0a4e3f2e",
   "metadata": {},
   "outputs": [
    {
     "name": "stdout",
     "output_type": "stream",
     "text": [
      "States with the highest cigarette use:  State\n",
      "West Virginia                      34.186590\n",
      "Kentucky                           33.952107\n",
      "Guam                               33.603065\n",
      "National Median (States and DC)    33.114815\n",
      "Arkansas                           32.972414\n",
      "Ohio                               32.618774\n",
      "Louisiana                          32.435632\n",
      "Tennessee                          32.378544\n",
      "Missouri                           32.354023\n",
      "Mississippi                        32.246743\n",
      "Name: Percentage, dtype: float64\n"
     ]
    }
   ],
   "source": [
    "# Finding the states with the highest cigarette use\n",
    "\n",
    "cigarette_df = data_file[data_file[\"Tobacco Use\"] == \"Cigarette Use (Adults)\"]\n",
    "cigarette_state_count = cigarette_df.groupby(\"State\")[\"Percentage\"].mean().sort_values(ascending=False).head(10)\n",
    "\n",
    "print(\"States with the highest cigarette use: \", cigarette_state_count[:10])\n"
   ]
  },
  {
   "cell_type": "code",
   "execution_count": 15,
   "id": "40145617",
   "metadata": {},
   "outputs": [
    {
     "name": "stdout",
     "output_type": "stream",
     "text": [
      "States with the highest smokeless tobacco use:  State\n",
      "National Median (States and DC)    38.541667\n",
      "Mississippi                        27.190171\n",
      "Kentucky                           26.814530\n",
      "Alabama                            26.147414\n",
      "Wyoming                            26.107798\n",
      "Montana                            26.105804\n",
      "West Virginia                      25.767130\n",
      "Nebraska                           25.756410\n",
      "Guam                               25.561009\n",
      "Alaska                             25.538288\n",
      "Name: Percentage, dtype: float64\n"
     ]
    }
   ],
   "source": [
    "# Smokeless tobacco use\n",
    "smokeless_df = data_file[data_file[\"Tobacco Use\"] == \"Smokeless Tobacco Use (Adults)\"]\n",
    "smokeless_state_count = smokeless_df.groupby(\"State\")[\"Percentage\"].mean().sort_values(ascending=False).head(10)\n",
    "print(\"States with the highest smokeless tobacco use: \", smokeless_state_count[:10])"
   ]
  },
  {
   "cell_type": "code",
   "execution_count": 16,
   "id": "03ff7d1f",
   "metadata": {},
   "outputs": [
    {
     "name": "stdout",
     "output_type": "stream",
     "text": [
      "States with the highest E-Cig use:  State\n",
      "National Median (States and DC)    33.433333\n",
      "Oklahoma                           24.167241\n",
      "Wyoming                            23.686207\n",
      "Arkansas                           23.633333\n",
      "Indiana                            23.612644\n",
      "Kentucky                           23.581034\n",
      "Ohio                               23.535632\n",
      "Nevada                             23.491379\n",
      "Tennessee                          23.483908\n",
      "Hawaii                             23.468966\n",
      "Name: Percentage, dtype: float64\n"
     ]
    }
   ],
   "source": [
    "# States with the Highest E-Cig\n",
    "ecig_df = data_file[data_file[\"Tobacco Use\"] == \"E-Cigarette Use (Adults)\"]\n",
    "ecig_state_count = ecig_df.groupby(\"State\")[\"Percentage\"].mean().sort_values(ascending=False).head(10)\n",
    "print(\"States with the highest E-Cig use: \", ecig_state_count[:10])\n"
   ]
  },
  {
   "cell_type": "markdown",
   "id": "11766fc6",
   "metadata": {},
   "source": [
    "# States with Highest Tobacco use :"
   ]
  },
  {
   "cell_type": "markdown",
   "id": "aeae4448",
   "metadata": {},
   "source": [
    "## Cigarette Use"
   ]
  },
  {
   "cell_type": "code",
   "execution_count": 17,
   "id": "e310b0df",
   "metadata": {},
   "outputs": [
    {
     "data": {
      "image/png": "[encoded data removed]",
      "text/plain": [
       "<Figure size 640x480 with 1 Axes>"
      ]
     },
     "metadata": {},
     "output_type": "display_data"
    }
   ],
   "source": [
    "#States with the Highest Cigarette Use\n",
    "sns.barplot(x=cigarette_state_count.index, y=cigarette_state_count.values)\n",
    "plt.title(\"States with the Highest Cigarette Use\")\n",
    "plt.xlabel(\"State\")\n",
    "plt.ylabel(\"Percentage of Smokers\")\n",
    "\n",
    "plt.xticks(rotation = 90)\n",
    "plt.show()"
   ]
  },
  {
   "cell_type": "markdown",
   "id": "6b4ad277",
   "metadata": {},
   "source": [
    "## Smokeless Tobacco"
   ]
  },
  {
   "cell_type": "code",
   "execution_count": 18,
   "id": "171fe33d",
   "metadata": {},
   "outputs": [
    {
     "data": {
      "image/png": "[encoded data removed]",
      "text/plain": [
       "<Figure size 640x480 with 1 Axes>"
      ]
     },
     "metadata": {},
     "output_type": "display_data"
    }
   ],
   "source": [
    "#States with the Highest smokeless tobacco use\n",
    "sns.barplot(x=smokeless_state_count.index, y=smokeless_state_count.values)\n",
    "plt.title(\"States with the Highest Smokeless Tobacco Use\")\n",
    "plt.xlabel(\"State\")\n",
    "plt.ylabel(\"Percentage of Smokeless Tobacco Users\")\n",
    "plt.xticks(rotation = 90)\n",
    "plt.show()\n"
   ]
  },
  {
   "cell_type": "markdown",
   "id": "a2e75028",
   "metadata": {},
   "source": [
    "## E-Cigarette Use"
   ]
  },
  {
   "cell_type": "code",
   "execution_count": 19,
   "id": "90d0271f",
   "metadata": {},
   "outputs": [
    {
     "data": {
      "image/png": "[encoded data removed]",
      "text/plain": [
       "<Figure size 640x480 with 1 Axes>"
      ]
     },
     "metadata": {},
     "output_type": "display_data"
    }
   ],
   "source": [
    "# #States with the Highest e-cigarette use\n",
    "sns.barplot(x=ecig_state_count.index, y=ecig_state_count.values)\n",
    "plt.title(\"States with the Highest E-Cig Use\")\n",
    "plt.xlabel(\"State\")\n",
    "plt.ylabel(\"Percentage of E-Cig Users\")\n",
    "plt.xticks(rotation = 90)\n",
    "plt.show()"
   ]
  },
  {
   "cell_type": "markdown",
   "id": "039c8c02",
   "metadata": {},
   "source": [
    "# Time Series Analysis for Cigarette, Smokeless Tobacco Use, E-Cigarette Use:"
   ]
  },
  {
   "cell_type": "markdown",
   "id": "3499088f",
   "metadata": {},
   "source": [
    " ## Cigarette"
   ]
  },
  {
   "cell_type": "code",
   "execution_count": 23,
   "id": "db43e0e2",
   "metadata": {},
   "outputs": [
    {
     "data": {
      "image/png": "[encoded data removed]",
      "text/plain": [
       "<Figure size 640x480 with 1 Axes>"
      ]
     },
     "metadata": {},
     "output_type": "display_data"
    }
   ],
   "source": [
    "#Time series analysis of Cigarattes tobacco\n",
    "cigarette_df = data_file[data_file[\"Tobacco Use\"] == \"Cigarette Use (Adults)\"]\n",
    "cigarette_state_count = cigarette_df.groupby(\"Year\")[\"Percentage\"].mean().sort_values(ascending=False).head(10)\n",
    "sns.barplot(x=cigarette_state_count.index, y=cigarette_state_count.values)\n",
    "plt.title('Time series analysis of Cigarattes tobacco')\n",
    "\n",
    "plt.xlabel(\"Year\")\n",
    "plt.ylabel(\"Percentage of Smokers\")\n",
    "\n",
    "plt.xticks(rotation = 90)\n",
    "plt.show()"
   ]
  },
  {
   "cell_type": "markdown",
   "id": "8ae3fab2",
   "metadata": {},
   "source": [
    "## Smokeless Tobacco Use"
   ]
  },
  {
   "cell_type": "code",
   "execution_count": 22,
   "id": "6b7693b0",
   "metadata": {},
   "outputs": [
    {
     "data": {
      "image/png": "[encoded data removed]",
      "text/plain": [
       "<Figure size 640x480 with 1 Axes>"
      ]
     },
     "metadata": {},
     "output_type": "display_data"
    }
   ],
   "source": [
    "#Time series analysis of smokeless tobacco\n",
    "cigarette_df = data_file[data_file[\"Tobacco Use\"] == \"Smokeless Tobacco Use (Adults)\"]\n",
    "cigarette_state_count = cigarette_df.groupby(\"Year\")[\"Percentage\"].mean().sort_values(ascending=False).head(10)\n",
    "sns.barplot(x=cigarette_state_count.index, y=cigarette_state_count.values)\n",
    "plt.title('Time series analysis of smokeless tobacco')\n",
    "\n",
    "plt.xlabel(\"Year\")\n",
    "plt.ylabel(\"Percentage of Smokers\")\n",
    "\n",
    "plt.xticks(rotation = 90)\n",
    "plt.show()"
   ]
  },
  {
   "cell_type": "markdown",
   "id": "6ba1e8ee",
   "metadata": {},
   "source": [
    "## E-Cigarattes"
   ]
  },
  {
   "cell_type": "code",
   "execution_count": 24,
   "id": "fadccf91",
   "metadata": {},
   "outputs": [
    {
     "data": {
      "image/png": "[encoded data removed]",
      "text/plain": [
       "<Figure size 640x480 with 1 Axes>"
      ]
     },
     "metadata": {},
     "output_type": "display_data"
    }
   ],
   "source": [
    "#Time series analysis of E-Cigarattes tobacco\n",
    "\n",
    "cigarette_df = data_file[data_file[\"Tobacco Use\"] == \"E-Cigarette Use (Adults)\"]\n",
    "cigarette_state_count = cigarette_df.groupby(\"Year\")[\"Percentage\"].mean().sort_values(ascending=False).head(10)\n",
    "sns.barplot(x=cigarette_state_count.index, y=cigarette_state_count.values)\n",
    "plt.title('Time series analysis of Highest E-Cig Use')\n",
    "plt.xlabel(\"Year\")\n",
    "plt.ylabel(\"Percentage of Smokers\")\n",
    "plt.xticks(rotation = 90)\n",
    "plt.show()"
   ]
  },
  {
   "cell_type": "markdown",
   "id": "3334a80e",
   "metadata": {},
   "source": [
    "Source of the data : https://catalog.data.gov/dataset/behavioral-risk-factor-data-tobacco-use-2011-to-present"
   ]
  },
  {
   "cell_type": "code",
   "execution_count": null,
   "id": "6e7ce3aa",
   "metadata": {},
   "outputs": [],
   "source": []
  },
  {
   "cell_type": "code",
   "execution_count": null,
   "id": "4fadc884",
   "metadata": {},
   "outputs": [],
   "source": []
  }
 ],
 "metadata": {
  "kernelspec": {
   "display_name": "Python 3 (ipykernel)",
   "language": "python",
   "name": "python3"
  },
  "language_info": {
   "codemirror_mode": {
    "name": "ipython",
    "version": 3
   },
   "file_extension": ".py",
   "mimetype": "text/x-python",
   "name": "python",
   "nbconvert_exporter": "python",
   "pygments_lexer": "ipython3",
   "version": "3.10.10"
  }
 },
 "nbformat": 4,
 "nbformat_minor": 5
}
